{
 "cells": [
  {
   "cell_type": "code",
   "execution_count": 1,
   "id": "f25d3902",
   "metadata": {},
   "outputs": [],
   "source": [
    "# Import the libraries we will use:\n",
    "\n",
    "import imageio\n",
    "import numpy as np\n",
    "import pandas as pd\n",
    "from PIL import Image\n",
    "from skimage import data, io\n",
    "import os"
   ]
  },
  {
   "cell_type": "markdown",
   "id": "76335d03",
   "metadata": {},
   "source": [
    "## Step 1\n",
    "In this step we will convert all coloured monkey photos into black & white ones of a fixed size.\n",
    "This step can be omitted if the photos are already there."
   ]
  },
  {
   "cell_type": "code",
   "execution_count": 8,
   "id": "6c9b2a46",
   "metadata": {},
   "outputs": [
    {
     "name": "stdout",
     "output_type": "stream",
     "text": [
      "DEBUG: Processing Group (Training): /n0, with 105 files\n",
      "DEBUG: Processing Group (Validation): /n0, with 26 files\n",
      "DEBUG: Processing Group (Training): /n1, with 111 files\n",
      "DEBUG: Processing Group (Validation): /n1, with 28 files\n",
      "DEBUG: Processing Group (Training): /n2, with 110 files\n",
      "DEBUG: Processing Group (Validation): /n2, with 27 files\n"
     ]
    }
   ],
   "source": [
    "# Create the Black-White monkey photos from the coloured ones and standardize the shape.\n",
    "# ======================================================================================\n",
    "\n",
    "def create_bw_photo(infile, outfile):\n",
    "    \"\"\"\n",
    "    \"\"\"\n",
    "    img = Image.open(infile)\n",
    "\n",
    "    img = img.convert(\"L\").resize((350,350))\n",
    "    bw_image = np.array(img.getdata(), dtype = np.uint8).reshape(350,350)\n",
    "\n",
    "    # Sanity check\n",
    "    if img.size != bw_image.shape:\n",
    "        print(f\"ISSUE when sizing {in_dir + file}\")\n",
    "\n",
    "    io.imsave(outfile, bw_image)\n",
    "    \n",
    "\n",
    "# Directories for datasets:\n",
    "photo_root = \"./monkeys\"\n",
    "\n",
    "source_training_photos = photo_root + \"/source_dataset/training\"\n",
    "dest_training_photos = photo_root + \"/derived_dataset/training\"\n",
    "\n",
    "source_validation_photos = photo_root + \"/source_dataset/validation\"\n",
    "dest_validation_photos = photo_root + \"/derived_dataset/validation\"\n",
    "\n",
    "# Restrict our analysis to following monkey categories:\n",
    "monkey_groups = [\"/n0\", \"/n1\", \"/n2\"]\n",
    "\n",
    "for group in monkey_groups:\n",
    "    # Process \"training\" dataset:\n",
    "    # Create B&W output directory\n",
    "    os.makedirs(dest_training_photos + group, exist_ok=True)\n",
    "        \n",
    "    # What are the colour photo files\n",
    "    group_files = os.listdir(source_training_photos + group)\n",
    "    print(f\"DEBUG: Processing Group (Training): {group}, with {len(group_files)} files\")\n",
    "\n",
    "    in_dir = source_training_photos + group + \"/\"\n",
    "    out_dir = dest_training_photos + group + \"/\"\n",
    "\n",
    "    for file in group_files:\n",
    "        create_bw_photo(in_dir + file, out_dir + file)\n",
    "\n",
    "\n",
    "    # Process \"validation\" dataset:\n",
    "    # Create B&W output directory\n",
    "    os.makedirs(dest_validation_photos + group, exist_ok=True)\n",
    "\n",
    "    # What are the colour photo files        \n",
    "    group_files = os.listdir(source_validation_photos + group)\n",
    "    print(f\"DEBUG: Processing Group (Validation): {group}, with {len(group_files)} files\")\n",
    "\n",
    "    in_dir = source_validation_photos + group + \"/\"\n",
    "    out_dir = dest_validation_photos + group + \"/\"\n",
    "\n",
    "    for file in group_files:\n",
    "        create_bw_photo(in_dir + file, out_dir + file)"
   ]
  }
 ],
 "metadata": {
  "kernelspec": {
   "display_name": "Python 3 (ipykernel)",
   "language": "python",
   "name": "python3"
  },
  "language_info": {
   "codemirror_mode": {
    "name": "ipython",
    "version": 3
   },
   "file_extension": ".py",
   "mimetype": "text/x-python",
   "name": "python",
   "nbconvert_exporter": "python",
   "pygments_lexer": "ipython3",
   "version": "3.9.13"
  }
 },
 "nbformat": 4,
 "nbformat_minor": 5
}
