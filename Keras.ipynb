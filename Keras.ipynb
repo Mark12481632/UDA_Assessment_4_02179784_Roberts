{
 "cells": [
  {
   "cell_type": "code",
   "execution_count": 11,
   "id": "357bff55",
   "metadata": {},
   "outputs": [],
   "source": [
    "from keras import models, layers\n",
    "from keras.datasets import mnist\n",
    "from keras.utils import to_categorical"
   ]
  },
  {
   "cell_type": "code",
   "execution_count": 21,
   "id": "1725f913",
   "metadata": {},
   "outputs": [
    {
     "name": "stdout",
     "output_type": "stream",
     "text": [
      "(60000, 28, 28)\n",
      "(10000, 28, 28)\n",
      "[5 0 4 ... 5 6 8]\n",
      "[7 2 1 ... 4 5 6]\n"
     ]
    }
   ],
   "source": [
    "(train_images, train_labels), (test_images, test_labels) = mnist.load_data()\n",
    "\n",
    "print(train_images.shape)\n",
    "print(test_images.shape)\n",
    "print(train_labels)\n",
    "print(test_labels)"
   ]
  },
  {
   "cell_type": "code",
   "execution_count": 22,
   "id": "5669f49e",
   "metadata": {},
   "outputs": [],
   "source": [
    "network = models.Sequential()\n",
    "network.add(layers.Dense(512, activation='relu', input_shape=(28*28,)))\n",
    "network.add(layers.Dense(10, activation='softmax'))"
   ]
  },
  {
   "cell_type": "code",
   "execution_count": 23,
   "id": "55e4f75f",
   "metadata": {},
   "outputs": [],
   "source": [
    "network.compile(optimizer='rmsprop', loss='categorical_crossentropy', metrics=['accuracy'])"
   ]
  },
  {
   "cell_type": "code",
   "execution_count": 24,
   "id": "40bb2e8a",
   "metadata": {},
   "outputs": [
    {
     "name": "stdout",
     "output_type": "stream",
     "text": [
      "(60000, 784)\n",
      "(10000, 784)\n"
     ]
    }
   ],
   "source": [
    "train_images = train_images.reshape((60000, 28*28))\n",
    "train_images = train_images.astype('float32') #/ 255\n",
    "\n",
    "test_images = test_images.reshape((10000, 28*28))\n",
    "test_images = test_images.astype('float32') #/ 255\n",
    "\n",
    "print(train_images.shape)\n",
    "print(test_images.shape)\n",
    "\n",
    "train_labels = to_categorical(train_labels)\n",
    "test_labels = to_categorical(test_labels)"
   ]
  },
  {
   "cell_type": "code",
   "execution_count": 27,
   "id": "5090e6f9",
   "metadata": {},
   "outputs": [
    {
     "name": "stdout",
     "output_type": "stream",
     "text": [
      "Epoch 1/10\n",
      "469/469 [==============================] - 2s 4ms/step - loss: 0.0355 - accuracy: 0.9979\n",
      "Epoch 2/10\n",
      "469/469 [==============================] - 2s 5ms/step - loss: 0.0591 - accuracy: 0.9973\n",
      "Epoch 3/10\n",
      "469/469 [==============================] - 2s 4ms/step - loss: 0.0557 - accuracy: 0.9975\n",
      "Epoch 4/10\n",
      "469/469 [==============================] - 2s 4ms/step - loss: 0.0419 - accuracy: 0.9979\n",
      "Epoch 5/10\n",
      "469/469 [==============================] - 2s 4ms/step - loss: 0.0495 - accuracy: 0.9977\n",
      "Epoch 6/10\n",
      "469/469 [==============================] - 2s 4ms/step - loss: 0.0399 - accuracy: 0.9980\n",
      "Epoch 7/10\n",
      "469/469 [==============================] - 2s 4ms/step - loss: 0.0383 - accuracy: 0.9981\n",
      "Epoch 8/10\n",
      "469/469 [==============================] - 2s 5ms/step - loss: 0.0333 - accuracy: 0.9983\n",
      "Epoch 9/10\n",
      "469/469 [==============================] - 2s 4ms/step - loss: 0.0351 - accuracy: 0.9983\n",
      "Epoch 10/10\n",
      "469/469 [==============================] - 3s 5ms/step - loss: 0.0438 - accuracy: 0.9979\n"
     ]
    },
    {
     "data": {
      "text/plain": [
       "<keras.callbacks.History at 0x7ff2e6c51280>"
      ]
     },
     "execution_count": 27,
     "metadata": {},
     "output_type": "execute_result"
    }
   ],
   "source": [
    "network.fit(train_images, train_labels, epochs=10, batch_size=128)"
   ]
  },
  {
   "cell_type": "code",
   "execution_count": 28,
   "id": "6999906c",
   "metadata": {},
   "outputs": [
    {
     "name": "stdout",
     "output_type": "stream",
     "text": [
      "313/313 [==============================] - 0s 1ms/step - loss: 1.4074 - accuracy: 0.9783\n",
      "test_acc: 0.9782999753952026\n",
      "test_loss: 1.4073601961135864\n"
     ]
    }
   ],
   "source": [
    "test_loss, test_acc = network.evaluate(test_images, test_labels)\n",
    "\n",
    "print('test_acc:', test_acc)\n",
    "print('test_loss:', test_loss)"
   ]
  },
  {
   "cell_type": "code",
   "execution_count": 29,
   "id": "0a186b04",
   "metadata": {},
   "outputs": [],
   "source": [
    "# Import the libraries we will use:\n",
    "\n",
    "import numpy as np\n",
    "import os\n",
    "import matplotlib.pyplot as plt\n",
    "\n",
    "from skimage import io\n",
    "from sklearn.linear_model import SGDClassifier\n",
    "from sklearn.metrics import plot_confusion_matrix\n",
    "from sklearn.metrics import confusion_matrix\n",
    "from sklearn.model_selection import train_test_split\n",
    "from skimage.transform import resize"
   ]
  },
  {
   "cell_type": "code",
   "execution_count": 83,
   "id": "6b01cb7a",
   "metadata": {},
   "outputs": [],
   "source": [
    "# Directory for dataset:\n",
    "image_root_dir = \"./pets\"\n",
    "\n",
    "training_image_dir = image_root_dir + \"/training_set\"\n",
    "testing_image_dir = image_root_dir + \"/test_set\"\n",
    "\n",
    "# Restrict our analysis to following chess pieces:\n",
    "pet_list = [\"dogs\", \"cats\"]\n",
    "\n",
    "# Functions:\n",
    "\n",
    "def image_as_np_vector(file):\n",
    "    \"\"\"\n",
    "    \"\"\"\n",
    "    img_data = io.imread(file)\n",
    "    vec = np.reshape(img_data, -1)\n",
    "    return(vec)\n",
    "\n",
    "\n",
    "def read_in_images(img_loc):\n",
    "    \"\"\"\n",
    "    \"\"\"\n",
    "    data_list = []\n",
    "    label_list = []\n",
    "    for pet in pet_list:\n",
    "        image_files = os.listdir(img_loc + \"/\" + pet)\n",
    "        image_files.sort()\n",
    "\n",
    "        for img_file in image_files:\n",
    "            img_vec = image_as_np_vector(img_loc + \"/\" + pet + \"/\" + img_file)\n",
    "            data_list.append(img_vec)\n",
    "            pet_val = 0 if pet == 'dogs' else 1\n",
    "            label_list.append(pet_val)\n",
    "\n",
    "    data = np.concatenate(data_list, axis=0).reshape(len(label_list),-1)\n",
    "    labels = np.array(label_list)\n",
    "\n",
    "    # print(f\"Location {img_loc}, processed: {len(data_list)} files\")\n",
    "    # print(f\"Location {img_loc}, df: {data.shape} files\")\n",
    "\n",
    "    return((data, labels))"
   ]
  },
  {
   "cell_type": "code",
   "execution_count": 79,
   "id": "99a56df6",
   "metadata": {},
   "outputs": [
    {
     "name": "stdout",
     "output_type": "stream",
     "text": [
      "Location ./pets/training_set, processed: 8000 files\n",
      "Location ./pets/training_set, df: (8000, 22500) files\n",
      "Location ./pets/test_set, processed: 2000 files\n",
      "Location ./pets/test_set, df: (2000, 22500) files\n"
     ]
    }
   ],
   "source": [
    "# All chess pieces:\n",
    "all_train_data, all_train_labels = read_in_images(training_image_dir)\n",
    "\n",
    "all_test_data, all_test_labels = read_in_images(testing_image_dir)"
   ]
  },
  {
   "cell_type": "code",
   "execution_count": 84,
   "id": "97afa01d",
   "metadata": {},
   "outputs": [
    {
     "name": "stdout",
     "output_type": "stream",
     "text": [
      "(8000, 22500)\n",
      "(2000, 22500)\n"
     ]
    }
   ],
   "source": [
    "print(all_train_data.shape)\n",
    "print(all_test_data.shape)\n",
    "\n",
    "train_labels = to_categorical(all_train_labels)\n",
    "test_labels = to_categorical(all_test_labels)"
   ]
  },
  {
   "cell_type": "code",
   "execution_count": 87,
   "id": "c4a57c93",
   "metadata": {},
   "outputs": [],
   "source": [
    "network = models.Sequential()\n",
    "network.add(layers.Dense(512, activation='relu', input_shape=(150*150,)))\n",
    "network.add(layers.Dense(2, activation='softmax'))"
   ]
  },
  {
   "cell_type": "code",
   "execution_count": 89,
   "id": "64234f17",
   "metadata": {},
   "outputs": [
    {
     "name": "stdout",
     "output_type": "stream",
     "text": [
      "Epoch 1/50\n",
      "16/16 [==============================] - 3s 195ms/step - loss: 86.5543 - accuracy: 0.5203\n",
      "Epoch 2/50\n",
      "16/16 [==============================] - 3s 191ms/step - loss: 10.8362 - accuracy: 0.5056\n",
      "Epoch 3/50\n",
      "16/16 [==============================] - 3s 199ms/step - loss: 0.7275 - accuracy: 0.5080\n",
      "Epoch 4/50\n",
      "16/16 [==============================] - 3s 200ms/step - loss: 0.6932 - accuracy: 0.5403\n",
      "Epoch 5/50\n",
      "16/16 [==============================] - 3s 205ms/step - loss: 0.7184 - accuracy: 0.5203\n",
      "Epoch 6/50\n",
      "16/16 [==============================] - 3s 213ms/step - loss: 0.6926 - accuracy: 0.5001\n",
      "Epoch 7/50\n",
      "16/16 [==============================] - 3s 202ms/step - loss: 0.6921 - accuracy: 0.5051\n",
      "Epoch 8/50\n",
      "16/16 [==============================] - 3s 204ms/step - loss: 0.9085 - accuracy: 0.5000\n",
      "Epoch 9/50\n",
      "16/16 [==============================] - 3s 214ms/step - loss: 0.6930 - accuracy: 0.5000\n",
      "Epoch 10/50\n",
      "16/16 [==============================] - 3s 202ms/step - loss: 0.6930 - accuracy: 0.5000\n",
      "Epoch 11/50\n",
      "16/16 [==============================] - 4s 230ms/step - loss: 0.6930 - accuracy: 0.4927\n",
      "Epoch 12/50\n",
      "16/16 [==============================] - 3s 211ms/step - loss: 0.6930 - accuracy: 0.4963\n",
      "Epoch 13/50\n",
      "16/16 [==============================] - 3s 213ms/step - loss: 0.6930 - accuracy: 0.4859\n",
      "Epoch 14/50\n",
      "16/16 [==============================] - 3s 207ms/step - loss: 0.6930 - accuracy: 0.4927\n",
      "Epoch 15/50\n",
      "16/16 [==============================] - 3s 204ms/step - loss: 0.6930 - accuracy: 0.5000\n",
      "Epoch 16/50\n",
      "16/16 [==============================] - 3s 206ms/step - loss: 0.6930 - accuracy: 0.5000\n",
      "Epoch 17/50\n",
      "16/16 [==============================] - 4s 230ms/step - loss: 0.6930 - accuracy: 0.4988\n",
      "Epoch 18/50\n",
      "16/16 [==============================] - 3s 214ms/step - loss: 0.6930 - accuracy: 0.4895\n",
      "Epoch 19/50\n",
      "16/16 [==============================] - 4s 222ms/step - loss: 0.6930 - accuracy: 0.4920\n",
      "Epoch 20/50\n",
      "16/16 [==============================] - 3s 208ms/step - loss: 0.6930 - accuracy: 0.4854\n",
      "Epoch 21/50\n",
      "16/16 [==============================] - 3s 216ms/step - loss: 0.6930 - accuracy: 0.5002\n",
      "Epoch 22/50\n",
      "16/16 [==============================] - 4s 252ms/step - loss: 0.6930 - accuracy: 0.4967\n",
      "Epoch 23/50\n",
      "16/16 [==============================] - 3s 216ms/step - loss: 0.6930 - accuracy: 0.4956\n",
      "Epoch 24/50\n",
      "16/16 [==============================] - 3s 204ms/step - loss: 0.6930 - accuracy: 0.4940\n",
      "Epoch 25/50\n",
      "16/16 [==============================] - 3s 206ms/step - loss: 0.6930 - accuracy: 0.5002\n",
      "Epoch 26/50\n",
      "16/16 [==============================] - 3s 204ms/step - loss: 0.6930 - accuracy: 0.4985\n",
      "Epoch 27/50\n",
      "16/16 [==============================] - 3s 213ms/step - loss: 0.6930 - accuracy: 0.5002\n",
      "Epoch 28/50\n",
      "16/16 [==============================] - 3s 211ms/step - loss: 0.6930 - accuracy: 0.4863\n",
      "Epoch 29/50\n",
      "16/16 [==============================] - 3s 208ms/step - loss: 0.6930 - accuracy: 0.4985\n",
      "Epoch 30/50\n",
      "16/16 [==============================] - 3s 208ms/step - loss: 0.6930 - accuracy: 0.5002\n",
      "Epoch 31/50\n",
      "16/16 [==============================] - 3s 210ms/step - loss: 0.6930 - accuracy: 0.5002\n",
      "Epoch 32/50\n",
      "16/16 [==============================] - 3s 211ms/step - loss: 0.6930 - accuracy: 0.4931\n",
      "Epoch 33/50\n",
      "16/16 [==============================] - 4s 239ms/step - loss: 0.6930 - accuracy: 0.4955\n",
      "Epoch 34/50\n",
      "16/16 [==============================] - 3s 204ms/step - loss: 0.6930 - accuracy: 0.4866\n",
      "Epoch 35/50\n",
      "16/16 [==============================] - 3s 205ms/step - loss: 0.6930 - accuracy: 0.5002\n",
      "Epoch 36/50\n",
      "16/16 [==============================] - 3s 215ms/step - loss: 0.6930 - accuracy: 0.4967\n",
      "Epoch 37/50\n",
      "16/16 [==============================] - 3s 210ms/step - loss: 0.6930 - accuracy: 0.4986\n",
      "Epoch 38/50\n",
      "16/16 [==============================] - 3s 207ms/step - loss: 0.6930 - accuracy: 0.4876\n",
      "Epoch 39/50\n",
      "16/16 [==============================] - 4s 216ms/step - loss: 0.6930 - accuracy: 0.4946\n",
      "Epoch 40/50\n",
      "16/16 [==============================] - 3s 209ms/step - loss: 0.6930 - accuracy: 0.4981\n",
      "Epoch 41/50\n",
      "16/16 [==============================] - 4s 240ms/step - loss: 0.6930 - accuracy: 0.4970\n",
      "Epoch 42/50\n",
      "16/16 [==============================] - 3s 214ms/step - loss: 0.6930 - accuracy: 0.4939\n",
      "Epoch 43/50\n",
      "16/16 [==============================] - 3s 204ms/step - loss: 0.6930 - accuracy: 0.4980\n",
      "Epoch 44/50\n",
      "16/16 [==============================] - 3s 207ms/step - loss: 0.6930 - accuracy: 0.4938\n",
      "Epoch 45/50\n",
      "16/16 [==============================] - 3s 206ms/step - loss: 0.6930 - accuracy: 0.4980\n",
      "Epoch 46/50\n",
      "16/16 [==============================] - 3s 205ms/step - loss: 0.6930 - accuracy: 0.4919\n",
      "Epoch 47/50\n",
      "16/16 [==============================] - 4s 222ms/step - loss: 0.6930 - accuracy: 0.4908\n",
      "Epoch 48/50\n",
      "16/16 [==============================] - 3s 209ms/step - loss: 0.6930 - accuracy: 0.4983\n",
      "Epoch 49/50\n",
      "16/16 [==============================] - 3s 206ms/step - loss: 0.6930 - accuracy: 0.4978\n",
      "Epoch 50/50\n",
      "16/16 [==============================] - 3s 206ms/step - loss: 0.6930 - accuracy: 0.4986\n"
     ]
    },
    {
     "data": {
      "text/plain": [
       "<keras.callbacks.History at 0x7ff149c69e50>"
      ]
     },
     "execution_count": 89,
     "metadata": {},
     "output_type": "execute_result"
    }
   ],
   "source": [
    "np.random.seed(1234)\n",
    "\n",
    "network.compile(optimizer='rmsprop', loss='categorical_crossentropy', metrics=['accuracy'])\n",
    "\n",
    "network.fit(all_train_data, train_labels, epochs=50, batch_size=512)"
   ]
  },
  {
   "cell_type": "code",
   "execution_count": 55,
   "id": "d8e90bf9",
   "metadata": {},
   "outputs": [
    {
     "name": "stdout",
     "output_type": "stream",
     "text": [
      "5/5 [==============================] - 0s 34ms/step - loss: 68.3458 - accuracy: 0.2424\n",
      "test_acc: 0.24242424964904785\n",
      "test_loss: 68.34584045410156\n"
     ]
    }
   ],
   "source": [
    "test_loss, test_acc = network.evaluate(test_images, test_labels)\n",
    "\n",
    "print('test_acc:', test_acc)\n",
    "print('test_loss:', test_loss)"
   ]
  },
  {
   "cell_type": "code",
   "execution_count": null,
   "id": "ae245321",
   "metadata": {},
   "outputs": [],
   "source": []
  }
 ],
 "metadata": {
  "kernelspec": {
   "display_name": "Python 3 (ipykernel)",
   "language": "python",
   "name": "python3"
  },
  "language_info": {
   "codemirror_mode": {
    "name": "ipython",
    "version": 3
   },
   "file_extension": ".py",
   "mimetype": "text/x-python",
   "name": "python",
   "nbconvert_exporter": "python",
   "pygments_lexer": "ipython3",
   "version": "3.9.13"
  }
 },
 "nbformat": 4,
 "nbformat_minor": 5
}
